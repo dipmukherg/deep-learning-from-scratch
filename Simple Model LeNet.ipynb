{
 "cells": [
  {
   "cell_type": "code",
   "execution_count": 1,
   "metadata": {},
   "outputs": [],
   "source": [
    "import torch\n",
    "import torch.nn as nn\n",
    "import torch.nn.functional as F"
   ]
  },
  {
   "cell_type": "code",
   "execution_count": 18,
   "metadata": {},
   "outputs": [],
   "source": [
    "class LeNet(nn.Module):\n",
    "    def __init__(self):\n",
    "        super(LeNet,self).__init__()\n",
    "\n",
    "        self.conv1 = nn.Conv2d(1,6,3)\n",
    "        self.conv2 = nn.Conv2d(6,16,3)\n",
    "        self.linear1 = nn.Linear(16*6*6,120)\n",
    "        self.linear2 = nn.Linear(120,84)\n",
    "        self.linear3 = nn.Linear(84,10)\n",
    "\n",
    "    def forward(self,image):\n",
    "        image = self.conv1(image).relu()\n",
    "        image = F.max_pool2d(image,(2,2))\n",
    "        image = self.conv2(image).relu()\n",
    "        image = F.max_pool2d(image,(2,2))\n",
    "\n",
    "        image = image.view(-1, self.num_flat_features(image))\n",
    "        image = F.relu(self.linear1(image))\n",
    "        image = F.relu(self.linear2(image))\n",
    "        image = self.linear3(image)\n",
    "        return F.log_softmax(image)\n",
    "\n",
    "    def num_flat_features(self, x):\n",
    "        size = x.size()[1:]  # all dimensions except the batch dimension\n",
    "        num_features = 1\n",
    "        for s in size:\n",
    "            num_features *= s\n",
    "        return num_features\n"
   ]
  },
  {
   "cell_type": "code",
   "execution_count": 19,
   "metadata": {},
   "outputs": [],
   "source": [
    "#### Create LeNet Model \n",
    "model = LeNet()"
   ]
  },
  {
   "cell_type": "code",
   "execution_count": 20,
   "metadata": {},
   "outputs": [
    {
     "name": "stdout",
     "output_type": "stream",
     "text": [
      "LeNet(\n",
      "  (conv1): Conv2d(1, 6, kernel_size=(3, 3), stride=(1, 1))\n",
      "  (conv2): Conv2d(6, 16, kernel_size=(3, 3), stride=(1, 1))\n",
      "  (linear1): Linear(in_features=576, out_features=120, bias=True)\n",
      "  (linear2): Linear(in_features=120, out_features=84, bias=True)\n",
      "  (linear3): Linear(in_features=84, out_features=10, bias=True)\n",
      ")\n"
     ]
    }
   ],
   "source": [
    "### Show the model architecture\n",
    "print(model)"
   ]
  },
  {
   "cell_type": "code",
   "execution_count": 21,
   "metadata": {},
   "outputs": [
    {
     "name": "stdout",
     "output_type": "stream",
     "text": [
      "torch.Size([1, 1, 32, 32])\n",
      "Output:  tensor([[-2.1437, -2.4591, -2.2105, -2.3772, -2.4137, -2.2888, -2.2812, -2.2778,\n",
      "         -2.2790, -2.3342]], grad_fn=<LogSoftmaxBackward0>)\n"
     ]
    },
    {
     "name": "stderr",
     "output_type": "stream",
     "text": [
      "/var/folders/gq/c7ch578s2k7_h10mbq482nb00000gp/T/ipykernel_1167/1946341736.py:21: UserWarning: Implicit dimension choice for log_softmax has been deprecated. Change the call to include dim=X as an argument.\n",
      "  return F.log_softmax(image)\n"
     ]
    }
   ],
   "source": [
    "### Passing a image  of random 32*32 pixels\n",
    "image = torch.rand((1,1,32,32))\n",
    "print(image.shape)\n",
    "\n",
    "print(\"Output: \",model(image))"
   ]
  },
  {
   "cell_type": "code",
   "execution_count": 22,
   "metadata": {},
   "outputs": [
    {
     "name": "stdout",
     "output_type": "stream",
     "text": [
      "Files already downloaded and verified\n"
     ]
    }
   ],
   "source": [
    "####### Load cifar10 data\n",
    "\n",
    "%matplotlib inline\n",
    "\n",
    "import torch\n",
    "import torchvision\n",
    "import torchvision.transforms as transforms\n",
    "\n",
    "\n",
    "transforms = transforms.Compose([transforms.ToTensor(),\n",
    "transforms.Grayscale(),transforms.Normalize((0.5), (0.5))])\n",
    "\n",
    "\n",
    "\n",
    "trainset = torchvision.datasets.CIFAR10(root='./data', train=True,\n",
    "                                        download=True, transform=transforms)\n",
    "\n"
   ]
  },
  {
   "cell_type": "code",
   "execution_count": 29,
   "metadata": {},
   "outputs": [],
   "source": [
    "trainloader = torch.utils.data.DataLoader(trainset,batch_size=128,shuffle=True)"
   ]
  },
  {
   "cell_type": "code",
   "execution_count": 30,
   "metadata": {},
   "outputs": [],
   "source": [
    "optimizer = torch.optim.Adam(model.parameters(),lr=0.01)\n",
    "criterion = nn.NLLLoss()"
   ]
  },
  {
   "cell_type": "code",
   "execution_count": 42,
   "metadata": {},
   "outputs": [
    {
     "name": "stderr",
     "output_type": "stream",
     "text": [
      "/var/folders/gq/c7ch578s2k7_h10mbq482nb00000gp/T/ipykernel_1167/1946341736.py:21: UserWarning: Implicit dimension choice for log_softmax has been deprecated. Change the call to include dim=X as an argument.\n",
      "  return F.log_softmax(image)\n"
     ]
    },
    {
     "name": "stdout",
     "output_type": "stream",
     "text": [
      "[1,   100] loss: 0.052\n",
      "[1,   200] loss: 0.053\n",
      "[1,   300] loss: 0.053\n",
      "[2,   100] loss: 0.294\n",
      "[2,   200] loss: 0.287\n",
      "[2,   300] loss: 0.292\n",
      "[3,   100] loss: 0.258\n",
      "[3,   200] loss: 0.262\n",
      "[3,   300] loss: 0.264\n",
      "[4,   100] loss: 0.203\n",
      "[4,   200] loss: 0.202\n",
      "[4,   300] loss: 0.199\n",
      "[5,   100] loss: 0.109\n",
      "[5,   200] loss: 0.110\n",
      "[5,   300] loss: 0.109\n",
      "[6,   100] loss: 0.107\n",
      "[6,   200] loss: 0.107\n",
      "[6,   300] loss: 0.107\n",
      "[7,   100] loss: 0.111\n",
      "[7,   200] loss: 0.111\n",
      "[7,   300] loss: 0.111\n",
      "[8,   100] loss: 0.113\n",
      "[8,   200] loss: 0.112\n",
      "[8,   300] loss: 0.113\n",
      "[9,   100] loss: 0.114\n",
      "[9,   200] loss: 0.114\n",
      "[9,   300] loss: 0.114\n",
      "[10,   100] loss: 0.114\n",
      "[10,   200] loss: 0.113\n",
      "[10,   300] loss: 0.114\n"
     ]
    }
   ],
   "source": [
    "for epoch in range(10):\n",
    "    running_loss = 0.0\n",
    "    optimizer.zero_grad()\n",
    "    for i,train_batch in enumerate(trainloader,0):\n",
    "        images, labels = train_batch\n",
    "        \n",
    "        preds = model(images)\n",
    "        loss = criterion(preds,labels)\n",
    "        loss.backward()\n",
    "        \n",
    "        running_loss += loss.item()\n",
    "        if i % 100 == 99:    # print every 2000 mini-batches\n",
    "            print(f'[{epoch + 1}, {i + 1:5d}] loss: {running_loss / 2000:.3f}')\n",
    "            running_loss = 0.0\n",
    "    optimizer.step()\n"
   ]
  },
  {
   "cell_type": "code",
   "execution_count": 32,
   "metadata": {},
   "outputs": [
    {
     "name": "stdout",
     "output_type": "stream",
     "text": [
      "Files already downloaded and verified\n"
     ]
    }
   ],
   "source": [
    "testset = torchvision.datasets.CIFAR10(root='./data', train=False,\n",
    "                                       download=True, transform=transforms)\n",
    "testloader = torch.utils.data.DataLoader(trainset,batch_size=128,shuffle=True)"
   ]
  },
  {
   "cell_type": "code",
   "execution_count": 36,
   "metadata": {},
   "outputs": [
    {
     "name": "stdout",
     "output_type": "stream",
     "text": [
      "Label:  dog\n"
     ]
    },
    {
     "data": {
      "image/png": "[encoded data removed]",
      "text/plain": [
       "<Figure size 432x288 with 1 Axes>"
      ]
     },
     "metadata": {
      "needs_background": "light"
     },
     "output_type": "display_data"
    }
   ],
   "source": [
    "import matplotlib.pyplot as plt\n",
    "Classes=['plane', 'car', 'bird', 'cat',\n",
    "           'deer', 'dog', 'frog', 'horse', 'ship', 'truck']\n",
    "for test_image in testloader:\n",
    "    print(\"Label: \",Classes[label[0]])\n",
    "    image,label = test_image\n",
    "    plt.imshow(image[0].squeeze(0))\n",
    "    plt.show()\n",
    "    \n",
    "    break"
   ]
  },
  {
   "cell_type": "code",
   "execution_count": 41,
   "metadata": {},
   "outputs": [
    {
     "name": "stderr",
     "output_type": "stream",
     "text": [
      "/var/folders/gq/c7ch578s2k7_h10mbq482nb00000gp/T/ipykernel_1167/1946341736.py:21: UserWarning: Implicit dimension choice for log_softmax has been deprecated. Change the call to include dim=X as an argument.\n",
      "  return F.log_softmax(image)\n"
     ]
    },
    {
     "name": "stdout",
     "output_type": "stream",
     "text": [
      "Accuracy of the network on the 10000 test images: 63 %\n"
     ]
    }
   ],
   "source": [
    "total=0\n",
    "correct = 0\n",
    "for test_batch in testloader:\n",
    "    with torch.no_grad():\n",
    "        image,label = test_batch\n",
    "        preds = model(image)\n",
    "        _, predicted = torch.max(preds.data, 1)\n",
    "        total += label.size(0)\n",
    "        correct += (predicted == label).sum().item()\n",
    "print('Accuracy of the network on the 10000 test images: %d %%' % (\n",
    "    100 * correct / total))"
   ]
  },
  {
   "cell_type": "code",
   "execution_count": null,
   "metadata": {},
   "outputs": [],
   "source": []
  }
 ],
 "metadata": {
  "kernelspec": {
   "display_name": "Python 3.9.12 ('imageproc')",
   "language": "python",
   "name": "python3"
  },
  "language_info": {
   "codemirror_mode": {
    "name": "ipython",
    "version": 3
   },
   "file_extension": ".py",
   "mimetype": "text/x-python",
   "name": "python",
   "nbconvert_exporter": "python",
   "pygments_lexer": "ipython3",
   "version": "3.9.12"
  },
  "orig_nbformat": 4,
  "vscode": {
   "interpreter": {
    "hash": "dbf8f6931e593c1d20f304ee88c30b2bf8792293dec0efad3793d777ab79c16d"
   }
  }
 },
 "nbformat": 4,
 "nbformat_minor": 2
}
