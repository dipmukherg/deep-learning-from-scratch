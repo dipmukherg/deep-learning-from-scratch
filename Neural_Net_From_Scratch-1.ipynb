{
 "cells": [
  {
   "cell_type": "code",
   "execution_count": 5,
   "metadata": {},
   "outputs": [
    {
     "name": "stdout",
     "output_type": "stream",
     "text": [
      "4.8\n"
     ]
    }
   ],
   "source": [
    "##### Linear activation 1 Neuron 4 inputs\n",
    "\n",
    "input = [1.0,2.0,3.0,2.5]\n",
    "weights = [0.2,0.8,-0.5,1.0]\n",
    "bias = 2\n",
    "\n",
    "\n",
    "y = input[0]*weights[0] + input[1]*weights[1] + input[2]*weights[2] + input[3]*weights[3] + bias  \n",
    "\n",
    "print(y)"
   ]
  },
  {
   "cell_type": "markdown",
   "metadata": {},
   "source": [
    "<img src=\"3ip3units.png\" width=250 height=250 />"
   ]
  },
  {
   "cell_type": "code",
   "execution_count": 6,
   "metadata": {},
   "outputs": [
    {
     "name": "stdout",
     "output_type": "stream",
     "text": [
      "[4.8, 2.65, 2.385]\n"
     ]
    }
   ],
   "source": [
    "##### Linear activation 3 Neuron 4 inputs\n",
    "\n",
    "input = [1.0,2.0,3.0,2.5]\n",
    "weights1 = [0.2,0.8,-0.5,1.0]\n",
    "weights2 = [0.5,-0.19,0.26,-0.5]\n",
    "weights3 = [-0.26,-0.27,0.17,0.87]\n",
    "\n",
    "bias1 = 2\n",
    "bias2 = 3\n",
    "bias3 = 0.5\n",
    "\n",
    "\n",
    "y = [input[0]*weights1[0] + input[1]*weights1[1] + input[2]*weights1[2] + input[3]*weights1[3] + bias1,  \n",
    "    input[0]*weights2[0] + input[1]*weights2[1] + input[2]*weights2[2] + input[3]*weights2[3] + bias2,\n",
    "    input[0]*weights3[0] + input[1]*weights3[1] + input[2]*weights3[2] + input[3]*weights3[3] + bias3]\n",
    "\n",
    "print(y)"
   ]
  },
  {
   "cell_type": "code",
   "execution_count": 1,
   "metadata": {},
   "outputs": [
    {
     "name": "stdout",
     "output_type": "stream",
     "text": [
      "[4.8, 2.65, 2.385]\n"
     ]
    }
   ],
   "source": [
    "######## Dynamic way\n",
    "\n",
    "inputs = [1.0,2.0,3.0,2.5]\n",
    "weights = [[0.2,0.8,-0.5,1.0],[0.5,-0.19,0.26,-0.5],[-0.26,-0.27,0.17,0.87]]\n",
    "biases = [2,3,0.5]\n",
    "\n",
    "\n",
    "\n",
    "layer_outputs = []\n",
    "\n",
    "for neuron_weights,neuron_bias in zip(weights,biases):\n",
    "    neuron_output = 0\n",
    "    for input,weight in zip(inputs,neuron_weights):\n",
    "        neuron_output += input*weight\n",
    "    neuron_output+=neuron_bias\n",
    "    layer_outputs.append(neuron_output)\n",
    "\n",
    "\n",
    "print(layer_outputs)\n"
   ]
  },
  {
   "cell_type": "code",
   "execution_count": 2,
   "metadata": {},
   "outputs": [
    {
     "name": "stdout",
     "output_type": "stream",
     "text": [
      "[4.8, 2.6500000000000004, 2.385]\n"
     ]
    }
   ],
   "source": [
    "######## Dynamic way with NumPy\n",
    "import numpy as np \n",
    "\n",
    "inputs = [1.0,2.0,3.0,2.5]\n",
    "weights = [[0.2,0.8,-0.5,1.0],[0.5,-0.19,0.26,-0.5],[-0.26,-0.27,0.17,0.87]]\n",
    "biases = [2,3,0.5]\n",
    "\n",
    "\n",
    "\n",
    "layer_outputs = []\n",
    "\n",
    "for neuron_weights,neuron_bias in zip(weights,biases):\n",
    "    neuron_output = np.dot(inputs,neuron_weights)+neuron_bias\n",
    "    layer_outputs.append(neuron_output)\n",
    "\n",
    "\n",
    "print(layer_outputs)"
   ]
  },
  {
   "cell_type": "code",
   "execution_count": null,
   "metadata": {},
   "outputs": [],
   "source": []
  }
 ],
 "metadata": {
  "kernelspec": {
   "display_name": "Python 3.9.12 ('imageproc')",
   "language": "python",
   "name": "python3"
  },
  "language_info": {
   "codemirror_mode": {
    "name": "ipython",
    "version": 3
   },
   "file_extension": ".py",
   "mimetype": "text/x-python",
   "name": "python",
   "nbconvert_exporter": "python",
   "pygments_lexer": "ipython3",
   "version": "3.9.12"
  },
  "orig_nbformat": 4,
  "vscode": {
   "interpreter": {
    "hash": "dbf8f6931e593c1d20f304ee88c30b2bf8792293dec0efad3793d777ab79c16d"
   }
  }
 },
 "nbformat": 4,
 "nbformat_minor": 2
}
