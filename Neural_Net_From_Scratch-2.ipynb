{
 "cells": [
  {
   "cell_type": "code",
   "execution_count": 2,
   "metadata": {},
   "outputs": [],
   "source": [
    "######### Batches \n",
    "import numpy as np \n",
    "\n",
    "inputs = [[1.0,2.0,3.0,2.5],[2.0,5.0,3.1,-1.3],[4.2,2.3,0.3,-2.1]]\n",
    "weights = [[0.2,0.8,-0.5,1.0],[0.5,-0.19,0.26,-0.5],[-0.26,-0.27,0.17,0.87]]\n",
    "biases = [2,3,0.5]"
   ]
  },
  {
   "cell_type": "code",
   "execution_count": 4,
   "metadata": {},
   "outputs": [
    {
     "name": "stdout",
     "output_type": "stream",
     "text": [
      "[[ 4.8    2.65   2.385]\n",
      " [ 3.55   4.506 -1.974]\n",
      " [ 2.43   5.791 -2.989]]\n"
     ]
    }
   ],
   "source": [
    "layer_outputs = []\n",
    "\n",
    "output = np.dot(inputs,np.array(weights).T) + biases\n",
    "\n",
    "\n",
    "print(output)"
   ]
  },
  {
   "cell_type": "code",
   "execution_count": 12,
   "metadata": {},
   "outputs": [],
   "source": [
    "######### Layers\n",
    "class Layer_Dense:\n",
    "    def __init__(self,n_inputs,n_outputs) -> None:\n",
    "        self.weights = 0.10 * np.random.randn(n_inputs,n_outputs)\n",
    "        self.bias = np.zeros((1,n_outputs))\n",
    "    \n",
    "    def forward(self,input):\n",
    "        output = np.dot(input,self.weights) + self.bias\n",
    "        return output\n"
   ]
  },
  {
   "cell_type": "code",
   "execution_count": 14,
   "metadata": {},
   "outputs": [
    {
     "data": {
      "text/plain": [
       "array([[ 5.09709317e-05],\n",
       "       [-7.19054934e-03],\n",
       "       [-5.22690146e-03]])"
      ]
     },
     "execution_count": 14,
     "metadata": {},
     "output_type": "execute_result"
    }
   ],
   "source": [
    "X = [[1.0,2.0,3.0,2.5],[2.0,5.0,-1.0,2.0],[-1.5,2.7,3.3,-0.8]]\n",
    "layer1 = Layer_Dense(4,4)\n",
    "layer2 = Layer_Dense(4,3)\n",
    "layer3 = Layer_Dense(3,1)\n",
    "layer3.forward(layer2.forward(layer1.forward(X)))"
   ]
  },
  {
   "cell_type": "code",
   "execution_count": null,
   "metadata": {},
   "outputs": [],
   "source": []
  }
 ],
 "metadata": {
  "kernelspec": {
   "display_name": "Python 3.9.12 ('imageproc')",
   "language": "python",
   "name": "python3"
  },
  "language_info": {
   "codemirror_mode": {
    "name": "ipython",
    "version": 3
   },
   "file_extension": ".py",
   "mimetype": "text/x-python",
   "name": "python",
   "nbconvert_exporter": "python",
   "pygments_lexer": "ipython3",
   "version": "3.9.12"
  },
  "orig_nbformat": 4,
  "vscode": {
   "interpreter": {
    "hash": "dbf8f6931e593c1d20f304ee88c30b2bf8792293dec0efad3793d777ab79c16d"
   }
  }
 },
 "nbformat": 4,
 "nbformat_minor": 2
}
